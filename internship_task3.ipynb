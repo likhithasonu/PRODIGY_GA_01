{
  "nbformat": 4,
  "nbformat_minor": 0,
  "metadata": {
    "colab": {
      "provenance": []
    },
    "kernelspec": {
      "name": "python3",
      "display_name": "Python 3"
    },
    "language_info": {
      "name": "python"
    }
  },
  "cells": [
    {
      "cell_type": "code",
      "execution_count": null,
      "metadata": {
        "colab": {
          "base_uri": "https://localhost:8080/"
        },
        "id": "RmDcB90CrxY1",
        "outputId": "19db52d1-241f-4c70-82ba-218d426b47fc"
      },
      "outputs": [
        {
          "output_type": "stream",
          "name": "stdout",
          "text": [
            "Character-Based Generated Text:\n",
            "tin aramplextexaratexais eraiov a e aramplext en c\n"
          ]
        }
      ],
      "source": [
        "# Import necessary libraries\n",
        "from collections import defaultdict, Counter\n",
        "import random\n",
        "\n",
        "# Define the text for training\n",
        "text = \"this is a simple example of a Markov chain text generation example\"\n",
        "\n",
        "# Function to build the character-based Markov chain model\n",
        "def build_char_markov_chain(text):\n",
        "    markov_chain = defaultdict(Counter)\n",
        "    for i in range(len(text) - 1):\n",
        "        current_char = text[i]\n",
        "        next_char = text[i + 1]\n",
        "        markov_chain[current_char][next_char] += 1\n",
        "    return markov_chain\n",
        "\n",
        "# Function to generate text using the character-based Markov chain model\n",
        "def generate_text_char(markov_chain, start_char, length=100):\n",
        "    current_char = start_char\n",
        "    result = start_char\n",
        "    for _ in range(length - 1):\n",
        "        next_chars = list(markov_chain[current_char].keys())\n",
        "        if not next_chars:\n",
        "            break\n",
        "        next_char = random.choices(next_chars, weights=markov_chain[current_char].values())[0]\n",
        "        result += next_char\n",
        "        current_char = next_char\n",
        "    return result\n",
        "\n",
        "# Build the Markov chain model\n",
        "char_markov_chain = build_char_markov_chain(text)\n",
        "\n",
        "# Generate text\n",
        "generated_text_char = generate_text_char(char_markov_chain, start_char=\"t\", length=50)\n",
        "print(\"Character-Based Generated Text:\")\n",
        "print(generated_text_char)\n"
      ]
    },
    {
      "cell_type": "code",
      "source": [
        "import random\n",
        "from collections import defaultdict\n",
        "\n",
        "class MarkovChain:\n",
        "    def __init__(self, n=2):\n",
        "        self.n = n  # Number of words to consider for state transitions\n",
        "        self.model = defaultdict(list)\n",
        "\n",
        "    def train(self, text):\n",
        "        # Split text into words\n",
        "        words = text.split()\n",
        "        for i in range(len(words) - self.n):\n",
        "            # Create a tuple as the state from n consecutive words\n",
        "            state = tuple(words[i:i + self.n])\n",
        "            next_word = words[i + self.n]\n",
        "            self.model[state].append(next_word)\n",
        "\n",
        "    def generate(self, length=50):\n",
        "        # Randomly choose a starting state\n",
        "        state = random.choice(list(self.model.keys()))\n",
        "        result = list(state)\n",
        "\n",
        "        # Generate the next words\n",
        "        for _ in range(length - self.n):\n",
        "            next_word = random.choice(self.model[state])\n",
        "            result.append(next_word)\n",
        "            state = tuple(result[-self.n:])  # Update the state\n",
        "\n",
        "        return ' '.join(result)\n",
        "\n",
        "# Load and read the dataset from your file path\n",
        "file_path = \"/content/dialogs.txt\"  # Your dataset path\n",
        "with open(file_path, 'r', encoding='utf-8') as file:\n",
        "    data = file.read()\n",
        "\n",
        "# Create an instance of the MarkovChain class\n",
        "markov_chain = MarkovChain(n=3)  # You can adjust 'n' for longer states\n",
        "markov_chain.train(data)\n",
        "\n",
        "# Generate text\n",
        "generated_text = markov_chain.generate(length=40)  # You can adjust the length of generated text\n",
        "print(generated_text)"
      ],
      "metadata": {
        "colab": {
          "base_uri": "https://localhost:8080/"
        },
        "id": "ZCL05h0jr6OH",
        "outputId": "56506c4f-a970-41fc-e714-e79ad84cd0cc"
      },
      "execution_count": 4,
      "outputs": [
        {
          "output_type": "stream",
          "name": "stdout",
          "text": [
            "that? oh, why is that? it's the automatic teller machine. it's the automatic teller machine. it gives you money? and it gives you money? it gives you money? and it gives you money? it gives you money? and it gives\n"
          ]
        }
      ]
    },
    {
      "cell_type": "code",
      "source": [],
      "metadata": {
        "id": "MWGfh4vsslpa"
      },
      "execution_count": null,
      "outputs": []
    },
    {
      "cell_type": "code",
      "source": [],
      "metadata": {
        "id": "VOyAy8hJsPai"
      },
      "execution_count": null,
      "outputs": []
    }
  ]
}